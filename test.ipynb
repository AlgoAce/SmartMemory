{
 "cells": [
  {
   "cell_type": "code",
   "execution_count": 9,
   "id": "7e1f3888",
   "metadata": {},
   "outputs": [
    {
     "data": {
      "text/plain": [
       "True"
      ]
     },
     "execution_count": 9,
     "metadata": {},
     "output_type": "execute_result"
    }
   ],
   "source": [
    "True or (1/0 and False)"
   ]
  },
  {
   "cell_type": "code",
   "execution_count": 6,
   "id": "71ab977f",
   "metadata": {},
   "outputs": [
    {
     "data": {
      "text/plain": [
       "False"
      ]
     },
     "execution_count": 6,
     "metadata": {},
     "output_type": "execute_result"
    }
   ],
   "source": [
    "False and 1/0"
   ]
  },
  {
   "cell_type": "code",
   "execution_count": 10,
   "id": "fc3a82a9",
   "metadata": {},
   "outputs": [
    {
     "name": "stdout",
     "output_type": "stream",
     "text": [
      "0\n"
     ]
    }
   ],
   "source": [
    "print(\"123\" and 0)"
   ]
  },
  {
   "cell_type": "code",
   "execution_count": 11,
   "id": "285ceb03",
   "metadata": {},
   "outputs": [
    {
     "name": "stdout",
     "output_type": "stream",
     "text": [
      "42\n"
     ]
    }
   ],
   "source": [
    "print(\"\" or 42)"
   ]
  },
  {
   "cell_type": "code",
   "execution_count": null,
   "id": "e02aaaeb",
   "metadata": {},
   "outputs": [
    {
     "data": {
      "text/plain": [
       "3.14"
      ]
     },
     "execution_count": 14,
     "metadata": {},
     "output_type": "execute_result"
    }
   ],
   "source": [
    "float(5)              # 输出：5.0\n",
    "float(3.14)         # 输出：3.14"
   ]
  },
  {
   "cell_type": "code",
   "execution_count": null,
   "id": "ccbe836b",
   "metadata": {},
   "outputs": [
    {
     "data": {
      "text/plain": [
       "4"
      ]
     },
     "execution_count": 16,
     "metadata": {},
     "output_type": "execute_result"
    }
   ],
   "source": [
    "def square_sum(x: int, y:int) -> int:\n",
    "    \"\"\"\n",
    "    will return the square sum of x and y\n",
    "\n",
    "    >>> square_sum(1, 2)\n",
    "    5\n",
    "    >>> square_sum(0, 0)\n",
    "    0\n",
    "    >>> square_sum(-1, -2)\n",
    "    5\n",
    "    \"\"\"\n",
    "    return x * x + y * y"
   ]
  },
  {
   "cell_type": "code",
   "execution_count": 9,
   "id": "8b2b1309",
   "metadata": {},
   "outputs": [
    {
     "name": "stdout",
     "output_type": "stream",
     "text": [
      "6\n"
     ]
    }
   ],
   "source": [
    "a = 1\n",
    "\n",
    "def foo() -> int:\n",
    "    a = 2\n",
    "    s = a * 3\n",
    "    return s\n",
    "\n",
    "m = foo()\n",
    "print(m)\n"
   ]
  }
 ],
 "metadata": {
  "kernelspec": {
   "display_name": "base",
   "language": "python",
   "name": "python3"
  },
  "language_info": {
   "codemirror_mode": {
    "name": "ipython",
    "version": 3
   },
   "file_extension": ".py",
   "mimetype": "text/x-python",
   "name": "python",
   "nbconvert_exporter": "python",
   "pygments_lexer": "ipython3",
   "version": "3.9.12"
  }
 },
 "nbformat": 4,
 "nbformat_minor": 5
}
